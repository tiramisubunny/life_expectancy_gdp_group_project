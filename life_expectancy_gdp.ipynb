{
 "cells": [
  {
   "cell_type": "markdown",
   "metadata": {},
   "source": [
    "# IMPORT LIBRARIES"
   ]
  },
  {
   "cell_type": "code",
   "execution_count": 61,
   "metadata": {},
   "outputs": [],
   "source": [
    "import pandas as pd\n",
    "import seaborn as sns\n",
    "import matplotlib.pyplot as plt\n",
    "import numpy as np\n",
    "from scipy.stats import pearsonr\n"
   ]
  },
  {
   "cell_type": "code",
   "execution_count": 62,
   "metadata": {},
   "outputs": [
    {
     "name": "stdout",
     "output_type": "stream",
     "text": [
      "  Country  Year  Life expectancy at birth (years)           GDP\n",
      "0   Chile  2000                              77.3  7.786093e+10\n",
      "1   Chile  2001                              77.3  7.097992e+10\n",
      "2   Chile  2002                              77.8  6.973681e+10\n",
      "3   Chile  2003                              77.9  7.564346e+10\n",
      "4   Chile  2004                              78.0  9.921039e+10\n"
     ]
    }
   ],
   "source": [
    "#Import Data From csv Files\n",
    "gdp_data = pd.read_csv('all_data.csv')\n",
    "print(gdp_data.head())"
   ]
  },
  {
   "cell_type": "code",
   "execution_count": 63,
   "metadata": {},
   "outputs": [
    {
     "name": "stdout",
     "output_type": "stream",
     "text": [
      "<class 'pandas.core.frame.DataFrame'>\n",
      "RangeIndex: 96 entries, 0 to 95\n",
      "Data columns (total 4 columns):\n",
      " #   Column                            Non-Null Count  Dtype  \n",
      "---  ------                            --------------  -----  \n",
      " 0   Country                           96 non-null     object \n",
      " 1   Year                              96 non-null     int64  \n",
      " 2   Life expectancy at birth (years)  96 non-null     float64\n",
      " 3   GDP                               96 non-null     float64\n",
      "dtypes: float64(2), int64(1), object(1)\n",
      "memory usage: 2.7+ KB\n",
      "None\n"
     ]
    }
   ],
   "source": [
    "#Data type check\n",
    "print(gdp_data.info())"
   ]
  },
  {
   "cell_type": "markdown",
   "metadata": {},
   "source": [
    "# Preparing the data for analysys"
   ]
  },
  {
   "cell_type": "markdown",
   "metadata": {},
   "source": [
    "## CONVERT GDP INTO TRILLIONS\n",
    "\n",
    "In order to make data for accessible, convert the gdp data into Trillions.\n",
    "\n",
    "Note: Trillions abbr. is \"T\".\n"
   ]
  },
  {
   "cell_type": "code",
   "execution_count": 64,
   "metadata": {
    "scrolled": true
   },
   "outputs": [
    {
     "name": "stdout",
     "output_type": "stream",
     "text": [
      "  Country  Year  Life expectancy at birth (years)           GDP  GDP_T\n",
      "0   Chile  2000                              77.3  7.786093e+10   0.08\n",
      "1   Chile  2001                              77.3  7.097992e+10   0.07\n",
      "2   Chile  2002                              77.8  6.973681e+10   0.07\n",
      "3   Chile  2003                              77.9  7.564346e+10   0.08\n",
      "4   Chile  2004                              78.0  9.921039e+10   0.10\n"
     ]
    }
   ],
   "source": [
    "gdp_data['GDP_T'] = np.round(gdp_data.GDP/10**12,2)\n",
    "print(gdp_data.head(5))"
   ]
  },
  {
   "cell_type": "markdown",
   "metadata": {},
   "source": [
    "## SEPARATE THE DATA BY COUNTRY\n",
    "\n",
    "We will be using the Country Abbreviations from \"https://sustainablesources.com/\"\n",
    "As an example, here are some of them:\n",
    "\n",
    "![country_abbr_example.png](attachment:country_abbr_example.png)"
   ]
  },
  {
   "cell_type": "code",
   "execution_count": 65,
   "metadata": {},
   "outputs": [
    {
     "name": "stdout",
     "output_type": "stream",
     "text": [
      "['Chile' 'China' 'Germany' 'Mexico' 'United States of America' 'Zimbabwe']\n",
      "[2000 2001 2002 2003 2004 2005 2006 2007 2008 2009 2010 2011 2012 2013\n",
      " 2014 2015]\n"
     ]
    }
   ],
   "source": [
    "#Check all the countries\n",
    "unique_countries = gdp_data.Country.unique()\n",
    "print(unique_countries)\n",
    "unique_country_labels = ['Chile' 'China' 'Germany' 'Mexico' 'U.S.A' 'Zimbabwe']\n",
    "#Check the number of years covered by the dataset\n",
    "unique_years = gdp_data.Year.unique()\n",
    "print(unique_years)"
   ]
  },
  {
   "cell_type": "code",
   "execution_count": 87,
   "metadata": {},
   "outputs": [],
   "source": [
    "#GDP China\n",
    "gdp_cn = gdp_data[gdp_data.Country == 'China']\n",
    "#GDP Chile\n",
    "gdp_cl = gdp_data[gdp_data.Country == 'Chile']\n",
    "#GDP Germany\n",
    "gdp_de = gdp_data[gdp_data.Country == 'Germany']\n",
    "#GDP Mexico\n",
    "gdp_mx = gdp_data[gdp_data.Country == 'Mexico']\n",
    "#GDP USA\n",
    "gdp_us = gdp_data[gdp_data.Country == 'United States of America']\n",
    "#GDP Zimbabwe\n",
    "gdp_zw = gdp_data[gdp_data.Country == 'Zimbabwe']\n"
   ]
  },
  {
   "cell_type": "markdown",
   "metadata": {},
   "source": [
    "# Exploratory Data Analysis\n",
    "\n",
    "The provided datset contains GDP and Life expectancy at birth measurements for 6 countries observed for a period of 15 years."
   ]
  },
  {
   "cell_type": "code",
   "execution_count": null,
   "metadata": {},
   "outputs": [],
   "source": [
    "print(gdp_data.describe())\n",
    "median_gdp = np.median(gdp_data.GDP_T)\n",
    "q1,q3 = np.percentile(gdp_data.GDP, [25,75])\n",
    "iqr_gdp = q3-q1\n",
    "print('Median GDP:', np.round(median_gdp,2))\n",
    "print('IQR GDP Trillions:', np.round(iqr_gdp/10**12,2))\n",
    "median_leab = np.median(gdp_data['Life expectancy at birth (years)'])\n",
    "q1,q3 = np.percentile(gdp_data['Life expectancy at birth (years)'], [25,75])\n",
    "iqr_leab = q3-q1\n",
    "print('Median LEAB:', np.round(median_leab,2))\n",
    "print('IQR LEAB:', np.round(iqr_leab,2))"
   ]
  },
  {
   "cell_type": "markdown",
   "metadata": {},
   "source": [
    "Looking at the GDP data, the average and median GDP were 3.88T and 1.28T U.S. Dollars, respectively. The distribution is unimodal and heavily right skewed with the majority of the observations to the left of the center.\n",
    "\n",
    "The IQR is 3.89T, with the lowest GDP close to 0.17T and the largest GDP over 4.06T. There is one GDP of over 18T U.S. Dollars, who is considered an outlier.\n",
    "\n",
    "The Life Expectancy at birth (LEAB) data shares simmilar characteristics, being unimodal and a heavy skew, but this time to the left. The average and median LEAB were 72.78 and 76.75 respectively.\n",
    "\n",
    "The IQR is 4.43 years, with the lowest life expectancy close to 74 and the highest close to 79. There is one LEAB observation of 81 years, who is considered an outlier."
   ]
  },
  {
   "cell_type": "code",
   "execution_count": null,
   "metadata": {},
   "outputs": [],
   "source": [
    "plt.figure(figsize=(12,4))\n",
    "\n",
    "plt.subplot(1,2,1)\n",
    "plt.hist(gdp_data.GDP)\n",
    "sns.rugplot(data=gdp_data, x='GDP')\n",
    "plt.xlabel('GDP in Trillions of U.S. Dollars')\n",
    "plt.ylabel('Frequency')\n",
    "plt.axvline(np.mean(gdp_data.GDP), color='r', label='Mean')\n",
    "plt.axvline(np.median(gdp_data.GDP), color='orange', label='Median')\n",
    "plt.legend()\n",
    "\n",
    "plt.subplot(1,2,2)\n",
    "sns.boxplot(data=gdp_data, x='GDP', width=0.3, fliersize=3)\n",
    "plt.show()\n",
    "\n",
    "plt.close()\n",
    "plt.figure(figsize=(12,4))\n",
    "\n",
    "plt.subplot(1,2,1)\n",
    "plt.hist(gdp_data['Life expectancy at birth (years)'])\n",
    "sns.rugplot(data=gdp_data, x='Life expectancy at birth (years)')\n",
    "plt.xlabel('Life expectancy at birth (years)')\n",
    "plt.ylabel('Frequency')\n",
    "plt.axvline(np.mean(gdp_data['Life expectancy at birth (years)']), color='r', label='Mean')\n",
    "plt.axvline(np.median(gdp_data['Life expectancy at birth (years)']), color='orange', label='Median')\n",
    "plt.legend()\n",
    "\n",
    "ax=plt.subplot(1,2,2)\n",
    "sns.boxplot(data=gdp_data, x='Life expectancy at birth (years)', width=0.3, fliersize=3)\n",
    "\n",
    "plt.subplots_adjust(wspace=0.3)\n",
    "plt.show()"
   ]
  },
  {
   "cell_type": "markdown",
   "metadata": {},
   "source": [
    "# Diving into the dataset\n",
    "In order to better understand the dataset we need to start dividing it into its components."
   ]
  },
  {
   "cell_type": "code",
   "execution_count": null,
   "metadata": {},
   "outputs": [],
   "source": [
    "plt.close()\n",
    "plt.figure(figsize=(12,8))\n",
    "sns.set()\n",
    "ax1 = plt.subplot(2,1,1)\n",
    "sns.boxplot(data=gdp_data, y=gdp_data['Country'], x=gdp_data['GDP'])\n",
    "ax1.set_xlabel('GDP in Trillions of U.S. Dollars')\n",
    "\n",
    "ax2 = plt.subplot(2,1,2)\n",
    "sns.boxplot(data=gdp_data, y=gdp_data['Country'], x=gdp_data['Life expectancy at birth (years)'])\n",
    "plt.show()"
   ]
  },
  {
   "cell_type": "markdown",
   "metadata": {},
   "source": [
    "# 1. Does the GDP correlate with the Life Expectancy at Birth?"
   ]
  },
  {
   "cell_type": "code",
   "execution_count": null,
   "metadata": {},
   "outputs": [],
   "source": [
    "plt.close()\n",
    "plt.figure(figsize=(12,4))\n",
    "\n",
    "sns.scatterplot(x=gdp_data['Life expectancy at birth (years)'], y=gdp_data.GDP, hue=gdp_data.Country)\n",
    "plt.legend()\n",
    "plt.show()"
   ]
  },
  {
   "cell_type": "code",
   "execution_count": null,
   "metadata": {},
   "outputs": [],
   "source": [
    "corr_gdp_leab, p = pearsonr(gdp_data['GDP'], gdp_data['Life expectancy at birth (years)'])\n",
    "print('Pearson correlation coefficient:', corr_gdp_leab)"
   ]
  },
  {
   "cell_type": "markdown",
   "metadata": {},
   "source": [
    "By calculating the Pearson correlation coefficient __[*](https://en.wikipedia.org/wiki/Pearson_correlation_coefficient)__ we can draw the conclusion that there is a positive linear correlation between GDP and Life Expectancy at Birth in our dataset.\n",
    "\n",
    "This correlation can be roughly observed in the scatterplot above, but further analyzing each of the countries in the dataset might reveal different correlation coefficients."
   ]
  },
  {
   "cell_type": "code",
   "execution_count": null,
   "metadata": {},
   "outputs": [],
   "source": [
    "scatter_gdp_leaby = sns.FacetGrid(gdp_data, col_wrap=3, col='Country', hue='Country', sharex=False, sharey=False)\n",
    "scatter_gdp_leaby = (scatter_gdp_leaby.map(sns.scatterplot, 'Life expectancy at birth (years)', 'GDP')).add_legend()"
   ]
  },
  {
   "cell_type": "markdown",
   "metadata": {},
   "source": [
    "corr_gdp_leab_countries = []\n",
    "for country in unique_countries:\n",
    "    corr_gdp_leab, p = pearsonr(gdp_data['GDP'][gdp_data['Country'] == country], gdp_data['Life expectancy at birth (years)'][gdp_data['Country'] == country])\n",
    "    corr_gdp_leab_countries.append(corr_gdp_leab)\n",
    "    \n",
    "df_corr_gdp_leab = pd.DataFrame(unique_countries,  columns=['country'])\n",
    "df_corr_gdp_leab['pearson_corr'] = np.array(corr_gdp_leab_countries)\n",
    "print(df_corr_gdp_leab)\n",
    "#We have plotted the relationship between the two variables for each of the countries in our dataset, and together with the Pearson correlation coefficient we can say that there is a strong positive correlation between the two."
   ]
  },
  {
   "cell_type": "code",
   "execution_count": 88,
   "metadata": {},
   "outputs": [
    {
     "data": {
      "text/plain": [
       "<AxesSubplot:xlabel='Country', ylabel='annual_difference_gdp'>"
      ]
     },
     "execution_count": 88,
     "metadata": {},
     "output_type": "execute_result"
    },
    {
     "data": {
      "text/plain": [
       "<Figure size 432x288 with 0 Axes>"
      ]
     },
     "metadata": {},
     "output_type": "display_data"
    },
    {
     "data": {
      "image/png": "[encoded data removed]",
      "text/plain": [
       "<Figure size 864x864 with 2 Axes>"
      ]
     },
     "metadata": {},
     "output_type": "display_data"
    }
   ],
   "source": [
    "# calulate annual difference of life expectancy and gdp of China\n",
    "# create cloumn T-1 of gdp and life expectancy \n",
    "gdp_data = gdp_data.rename(columns={'Life expectancy at birth (years)': 'life_exp'})\n",
    "gdp_data['life_exp_t1'] = gdp_data['life_exp'].shift(1)\n",
    "gdp_data['GDP_t1'] = gdp_data['GDP'].shift(1)\n",
    "\n",
    "# set gdp data and life expectancy in the year 2000 to 0 in column T-1 \n",
    "def change_2000_gdp(df):\n",
    "    if df['Year'] == 2000:\n",
    "        return 0\n",
    "    else:\n",
    "        return df['GDP_t1']\n",
    "\n",
    "def change_2000_life(df):\n",
    "    if df['Year'] == 2000:\n",
    "        return 0\n",
    "    else:\n",
    "        return df['life_exp_t1']\n",
    "\n",
    "gdp_data['GDP_t1'] = gdp_data.apply(change_2000_gdp, axis=1)\n",
    "gdp_data['life_exp_t1'] = gdp_data.apply(change_2000_life, axis=1)\n",
    "\n",
    "# calculate the annual difference of gdp and life expectancy\n",
    "\n",
    "gdp_data['annual_difference_life_exp'] = (gdp_data['life_exp'] - gdp_data['life_exp_t1'])/ gdp_data['life_exp_t1'] \n",
    "gdp_data['annual_difference_gdp'] = (gdp_data['GDP'] - gdp_data['GDP_t1'])/ gdp_data['GDP_t1']\n",
    "\n",
    "#\n",
    "plt.clf()\n",
    "fig, axs = plt.subplots(2, figsize=(12,12))\n",
    "\n",
    "#gdp_data_no_zimbabwe = gdp_data[gdp_data['Country'] != 'Zimbabwe']\n",
    "sns.barplot(ax= axs[0], data= gdp_data, x= 'Country', y = 'annual_difference_life_exp', hue = 'Year')\n",
    "sns.barplot(ax = axs[1], data= gdp_data, x= 'Country', y = 'annual_difference_gdp', hue = 'Year')\n"
   ]
  },
  {
   "cell_type": "markdown",
   "metadata": {},
   "source": []
  },
  {
   "cell_type": "code",
   "execution_count": null,
   "metadata": {},
   "outputs": [],
   "source": []
  }
 ],
 "metadata": {
  "interpreter": {
   "hash": "b1e00c4c02fc48333235efc75f03fb75457c436b3b1518e216c638d11215803d"
  },
  "kernelspec": {
   "display_name": "Python 3 (ipykernel)",
   "language": "python",
   "name": "python3"
  },
  "language_info": {
   "codemirror_mode": {
    "name": "ipython",
    "version": 3
   },
   "file_extension": ".py",
   "mimetype": "text/x-python",
   "name": "python",
   "nbconvert_exporter": "python",
   "pygments_lexer": "ipython3",
   "version": "3.9.5"
  }
 },
 "nbformat": 4,
 "nbformat_minor": 4
}
