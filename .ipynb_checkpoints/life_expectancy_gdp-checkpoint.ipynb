{
 "cells": [
  {
   "cell_type": "code",
   "execution_count": 27,
   "metadata": {},
   "outputs": [],
   "source": [
    "import pandas as pd\n",
    "import seaborn as sns\n",
    "import matplotlib.pyplot as plt\n",
    "import numpy as np\n"
   ]
  },
  {
   "cell_type": "code",
   "execution_count": 37,
   "metadata": {},
   "outputs": [
    {
     "name": "stdout",
     "output_type": "stream",
     "text": [
      "   Country  Year  Life expectancy at birth (years)           GDP\n",
      "0    Chile  2000                              77.3  7.786093e+10\n",
      "1    Chile  2001                              77.3  7.097992e+10\n",
      "2    Chile  2002                              77.8  6.973681e+10\n",
      "3    Chile  2003                              77.9  7.564346e+10\n",
      "4    Chile  2004                              78.0  9.921039e+10\n",
      "5    Chile  2005                              78.4  1.229650e+11\n",
      "6    Chile  2006                              78.9  1.547880e+11\n",
      "7    Chile  2007                              78.9  1.736060e+11\n",
      "8    Chile  2008                              79.6  1.796380e+11\n",
      "9    Chile  2009                              79.3  1.723890e+11\n",
      "10   Chile  2010                              79.1  2.185380e+11\n",
      "11   Chile  2011                              79.8  2.522520e+11\n",
      "12   Chile  2012                              79.9  2.671220e+11\n",
      "13   Chile  2013                              80.1  2.783840e+11\n",
      "14   Chile  2014                              80.3  2.609900e+11\n",
      "15   Chile  2015                              80.5  2.425180e+11\n",
      "16   China  2000                              71.7  1.211350e+12\n",
      "17   China  2001                              72.2  1.339400e+12\n",
      "18   China  2002                              72.7  1.470550e+12\n",
      "19   China  2003                              73.1  1.660290e+12\n"
     ]
    }
   ],
   "source": [
    "#Import Data From csv Files\n",
    "gdp_data = pd.read_csv('all_data.csv')\n",
    "print(gdp_data.head(20))"
   ]
  },
  {
   "cell_type": "code",
   "execution_count": 38,
   "metadata": {},
   "outputs": [
    {
     "name": "stdout",
     "output_type": "stream",
     "text": [
      "['Chile' 'China' 'Germany' 'Mexico' 'United States of America' 'Zimbabwe']\n"
     ]
    }
   ],
   "source": [
    "#Check all the countries\n",
    "print(gdp_data.Country.unique())"
   ]
  },
  {
   "cell_type": "code",
   "execution_count": 39,
   "metadata": {},
   "outputs": [
    {
     "name": "stdout",
     "output_type": "stream",
     "text": [
      "    Country  Year  Life expectancy at birth (years)           GDP  \\\n",
      "0     Chile  2000                              77.3  7.786093e+10   \n",
      "1     Chile  2001                              77.3  7.097992e+10   \n",
      "2     Chile  2002                              77.8  6.973681e+10   \n",
      "3     Chile  2003                              77.9  7.564346e+10   \n",
      "4     Chile  2004                              78.0  9.921039e+10   \n",
      "5     Chile  2005                              78.4  1.229650e+11   \n",
      "6     Chile  2006                              78.9  1.547880e+11   \n",
      "7     Chile  2007                              78.9  1.736060e+11   \n",
      "8     Chile  2008                              79.6  1.796380e+11   \n",
      "9     Chile  2009                              79.3  1.723890e+11   \n",
      "10    Chile  2010                              79.1  2.185380e+11   \n",
      "11    Chile  2011                              79.8  2.522520e+11   \n",
      "12    Chile  2012                              79.9  2.671220e+11   \n",
      "13    Chile  2013                              80.1  2.783840e+11   \n",
      "14    Chile  2014                              80.3  2.609900e+11   \n",
      "15    Chile  2015                              80.5  2.425180e+11   \n",
      "16    China  2000                              71.7  1.211350e+12   \n",
      "17    China  2001                              72.2  1.339400e+12   \n",
      "18    China  2002                              72.7  1.470550e+12   \n",
      "19    China  2003                              73.1  1.660290e+12   \n",
      "20    China  2004                              73.5  1.955350e+12   \n",
      "21    China  2005                              73.9  2.285970e+12   \n",
      "22    China  2006                              74.2  2.752130e+12   \n",
      "23    China  2007                              74.4  3.552180e+12   \n",
      "24    China  2008                              74.5  4.598210e+12   \n",
      "25    China  2009                              74.9  5.109950e+12   \n",
      "26    China  2010                              75.0  6.100620e+12   \n",
      "27    China  2011                              75.2  7.572550e+12   \n",
      "28    China  2012                              75.4  8.560550e+12   \n",
      "29    China  2013                              75.6  9.607220e+12   \n",
      "30    China  2014                              75.8  1.048240e+13   \n",
      "31    China  2015                              76.1  1.106470e+13   \n",
      "32  Germany  2000                              78.0  1.949950e+12   \n",
      "33  Germany  2001                              78.3  1.950650e+12   \n",
      "34  Germany  2002                              78.4  2.079140e+12   \n",
      "35  Germany  2003                              78.5  2.505730e+12   \n",
      "36  Germany  2004                              79.1  2.819250e+12   \n",
      "37  Germany  2005                              79.2  2.861410e+12   \n",
      "38  Germany  2006                              79.6  3.002450e+12   \n",
      "39  Germany  2007                              79.8  3.439950e+12   \n",
      "\n",
      "    GDP (trillion)  \n",
      "0             7.79  \n",
      "1             7.10  \n",
      "2             6.97  \n",
      "3             7.56  \n",
      "4             9.92  \n",
      "5            12.30  \n",
      "6            15.48  \n",
      "7            17.36  \n",
      "8            17.96  \n",
      "9            17.24  \n",
      "10           21.85  \n",
      "11           25.23  \n",
      "12           26.71  \n",
      "13           27.84  \n",
      "14           26.10  \n",
      "15           24.25  \n",
      "16          121.14  \n",
      "17          133.94  \n",
      "18          147.06  \n",
      "19          166.03  \n",
      "20          195.54  \n",
      "21          228.60  \n",
      "22          275.21  \n",
      "23          355.22  \n",
      "24          459.82  \n",
      "25          511.00  \n",
      "26          610.06  \n",
      "27          757.26  \n",
      "28          856.06  \n",
      "29          960.72  \n",
      "30         1048.24  \n",
      "31         1106.47  \n",
      "32          195.00  \n",
      "33          195.06  \n",
      "34          207.91  \n",
      "35          250.57  \n",
      "36          281.92  \n",
      "37          286.14  \n",
      "38          300.24  \n",
      "39          344.00  \n"
     ]
    }
   ],
   "source": [
    "gdp_data['GDP (trillion)'] = np.round(gdp_data.GDP/10000000000,2)\n",
    "print(gdp_data.head(40))"
   ]
  },
  {
   "cell_type": "code",
   "execution_count": null,
   "metadata": {},
   "outputs": [],
   "source": []
  }
 ],
 "metadata": {
  "kernelspec": {
   "display_name": "Python 3",
   "language": "python",
   "name": "python3"
  },
  "language_info": {
   "codemirror_mode": {
    "name": "ipython",
    "version": 3
   },
   "file_extension": ".py",
   "mimetype": "text/x-python",
   "name": "python",
   "nbconvert_exporter": "python",
   "pygments_lexer": "ipython3",
   "version": "3.8.5"
  }
 },
 "nbformat": 4,
 "nbformat_minor": 4
}
